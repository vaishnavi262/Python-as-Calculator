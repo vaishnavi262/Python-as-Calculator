{
 "cells": [
  {
   "cell_type": "markdown",
   "id": "binary-solomon",
   "metadata": {},
   "source": [
    "# Question One"
   ]
  },
  {
   "cell_type": "code",
   "execution_count": 4,
   "id": "welcome-space",
   "metadata": {},
   "outputs": [
    {
     "name": "stdout",
     "output_type": "stream",
     "text": [
      "200\n",
      "0.5\n",
      "10\n",
      "200.5\n"
     ]
    }
   ],
   "source": [
    "a=10\n",
    "b=20\n",
    "print(a*b)\n",
    "print(a/b)\n",
    "print(a%b)\n",
    "print((a*b)+(a/b))"
   ]
  },
  {
   "cell_type": "markdown",
   "id": "different-latter",
   "metadata": {},
   "source": [
    "# Question two"
   ]
  },
  {
   "cell_type": "code",
   "execution_count": 4,
   "id": "married-vitamin",
   "metadata": {},
   "outputs": [
    {
     "name": "stdout",
     "output_type": "stream",
     "text": [
      "enter principle ,rate and time(n Years): 6000,5,3\n",
      "simple interes is :900.0\n"
     ]
    }
   ],
   "source": [
    "principle,rate,time=input(\"enter principle ,rate and time(n Years): \").split(\",\")\n",
    "print(f\"simple interes is :{(float(principle)*float(rate)*float(time))/100}\")"
   ]
  },
  {
   "cell_type": "code",
   "execution_count": null,
   "id": "departmental-victor",
   "metadata": {},
   "outputs": [],
   "source": []
  },
  {
   "cell_type": "code",
   "execution_count": null,
   "id": "freelance-robert",
   "metadata": {},
   "outputs": [],
   "source": []
  }
 ],
 "metadata": {
  "kernelspec": {
   "display_name": "Python 3",
   "language": "python",
   "name": "python3"
  },
  "language_info": {
   "codemirror_mode": {
    "name": "ipython",
    "version": 3
   },
   "file_extension": ".py",
   "mimetype": "text/x-python",
   "name": "python",
   "nbconvert_exporter": "python",
   "pygments_lexer": "ipython3",
   "version": "3.6.13"
  }
 },
 "nbformat": 4,
 "nbformat_minor": 5
}
